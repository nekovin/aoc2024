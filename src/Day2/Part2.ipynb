{
 "cells": [
  {
   "cell_type": "code",
   "execution_count": null,
   "metadata": {},
   "outputs": [
    {
     "name": "stderr",
     "output_type": "stream",
     "text": [
      "C:\\Users\\CL-11\\AppData\\Local\\Temp\\ipykernel_34148\\840816109.py:2: ParserWarning: Falling back to the 'python' engine because the 'c' engine does not support regex separators (separators > 1 char and different from '\\s+' are interpreted as regex); you can avoid this warning by specifying engine='python'.\n",
      "  df = pd.read_csv('Day2.txt', sep=\"  \", header=None)\n"
     ]
    },
    {
     "data": {
      "text/html": [
       "<div>\n",
       "<style scoped>\n",
       "    .dataframe tbody tr th:only-of-type {\n",
       "        vertical-align: middle;\n",
       "    }\n",
       "\n",
       "    .dataframe tbody tr th {\n",
       "        vertical-align: top;\n",
       "    }\n",
       "\n",
       "    .dataframe thead th {\n",
       "        text-align: right;\n",
       "    }\n",
       "</style>\n",
       "<table border=\"1\" class=\"dataframe\">\n",
       "  <thead>\n",
       "    <tr style=\"text-align: right;\">\n",
       "      <th></th>\n",
       "      <th>0</th>\n",
       "    </tr>\n",
       "  </thead>\n",
       "  <tbody>\n",
       "    <tr>\n",
       "      <th>0</th>\n",
       "      <td>1 2 4 7 9 8</td>\n",
       "    </tr>\n",
       "    <tr>\n",
       "      <th>1</th>\n",
       "      <td>43 44 47 49 49</td>\n",
       "    </tr>\n",
       "    <tr>\n",
       "      <th>2</th>\n",
       "      <td>6 7 9 11 13 14 18</td>\n",
       "    </tr>\n",
       "    <tr>\n",
       "      <th>3</th>\n",
       "      <td>34 35 38 39 42 48</td>\n",
       "    </tr>\n",
       "    <tr>\n",
       "      <th>4</th>\n",
       "      <td>73 76 79 80 82 85 83 86</td>\n",
       "    </tr>\n",
       "    <tr>\n",
       "      <th>...</th>\n",
       "      <td>...</td>\n",
       "    </tr>\n",
       "    <tr>\n",
       "      <th>995</th>\n",
       "      <td>96 94 91 90 88 86</td>\n",
       "    </tr>\n",
       "    <tr>\n",
       "      <th>996</th>\n",
       "      <td>53 54 55 57 60 61</td>\n",
       "    </tr>\n",
       "    <tr>\n",
       "      <th>997</th>\n",
       "      <td>21 24 27 29 30 33 34 36</td>\n",
       "    </tr>\n",
       "    <tr>\n",
       "      <th>998</th>\n",
       "      <td>17 20 23 25 26 29 31</td>\n",
       "    </tr>\n",
       "    <tr>\n",
       "      <th>999</th>\n",
       "      <td>85 86 89 92 94</td>\n",
       "    </tr>\n",
       "  </tbody>\n",
       "</table>\n",
       "<p>1000 rows × 1 columns</p>\n",
       "</div>"
      ],
      "text/plain": [
       "                           0\n",
       "0                1 2 4 7 9 8\n",
       "1             43 44 47 49 49\n",
       "2          6 7 9 11 13 14 18\n",
       "3          34 35 38 39 42 48\n",
       "4    73 76 79 80 82 85 83 86\n",
       "..                       ...\n",
       "995        96 94 91 90 88 86\n",
       "996        53 54 55 57 60 61\n",
       "997  21 24 27 29 30 33 34 36\n",
       "998     17 20 23 25 26 29 31\n",
       "999           85 86 89 92 94\n",
       "\n",
       "[1000 rows x 1 columns]"
      ]
     },
     "execution_count": 1,
     "metadata": {},
     "output_type": "execute_result"
    }
   ],
   "source": [
    "import pandas as pd\n",
    "df = pd.read_csv('../data/Day2.txt', sep=\"  \", header=None)\n",
    "df"
   ]
  },
  {
   "cell_type": "code",
   "execution_count": 2,
   "metadata": {},
   "outputs": [
    {
     "name": "stdout",
     "output_type": "stream",
     "text": [
      "631\n"
     ]
    }
   ],
   "source": [
    "# iterate through rows\n",
    "\n",
    "safe = 0\n",
    "\n",
    "#print(int(df[0][1][:].split(\" \")[0])  - int(df[0][1][:].split(\" \")[1]))\n",
    "\n",
    "for i in range(0, len(df)):\n",
    "    increasing, decreasing = False, False\n",
    "\n",
    "    r = [int(x) for x in df[0][i][:].split(\" \")]\n",
    "    #print(r)\n",
    "\n",
    "    if r[0]  - r[1] > 0:\n",
    "        decreasing = True\n",
    "    else:\n",
    "        increasing = True\n",
    "    \n",
    "    \n",
    "    for j in range(0, len(r)-1):\n",
    "        #print(r[j], r[j+1])\n",
    "        if increasing:\n",
    "            if not r[j+1] - r[j] in [1,2, 3]:\n",
    "                decreasing = True\n",
    "    \n",
    "        if decreasing:\n",
    "            if not r[j] - r[j+1] in [1,2, 3]:\n",
    "                increasing = True\n",
    "\n",
    "    if increasing and decreasing:\n",
    "        safe += 0\n",
    "        \n",
    "    else:\n",
    "        #print(r)\n",
    "        safe += 1\n",
    "        #break\n",
    "\n",
    "print(safe)"
   ]
  },
  {
   "cell_type": "code",
   "execution_count": 4,
   "metadata": {},
   "outputs": [
    {
     "name": "stdout",
     "output_type": "stream",
     "text": [
      "665\n"
     ]
    }
   ],
   "source": [
    "safe = 0\n",
    "\n",
    "for i in range(0, len(df)):\n",
    "\n",
    "    r = [int(x) for x in df[0][i][:].split(\" \")]\n",
    "\n",
    "    valid = False\n",
    "    for j in range(len(r)):\n",
    "        temp = r[:j] + r[j+1:]\n",
    "        inc, dec = True, True\n",
    "\n",
    "        #print(temp)\n",
    "\n",
    "        for k in range(len(temp) - 1):\n",
    "            if temp[k+1] - temp[k] not in [1, 2, 3]:\n",
    "                inc = False\n",
    "            if temp[k] - temp[k+1] not in [1, 2, 3]:\n",
    "                dec = False\n",
    "\n",
    "        if inc or dec:\n",
    "            valid = True\n",
    "            break\n",
    "\n",
    "    if valid:\n",
    "        safe += 1\n",
    "\n",
    "print(safe)\n"
   ]
  },
  {
   "cell_type": "code",
   "execution_count": null,
   "metadata": {},
   "outputs": [],
   "source": []
  }
 ],
 "metadata": {
  "kernelspec": {
   "display_name": "Python 3",
   "language": "python",
   "name": "python3"
  },
  "language_info": {
   "codemirror_mode": {
    "name": "ipython",
    "version": 3
   },
   "file_extension": ".py",
   "mimetype": "text/x-python",
   "name": "python",
   "nbconvert_exporter": "python",
   "pygments_lexer": "ipython3",
   "version": "3.12.2"
  }
 },
 "nbformat": 4,
 "nbformat_minor": 2
}
