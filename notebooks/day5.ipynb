{
 "cells": [
  {
   "cell_type": "code",
   "execution_count": 1,
   "metadata": {},
   "outputs": [],
   "source": [
    "text = open('../data/day5.txt').read().split(\"\\n\\n\")"
   ]
  },
  {
   "cell_type": "code",
   "execution_count": 2,
   "metadata": {},
   "outputs": [],
   "source": [
    "ordering_rules = text[0].split(\"\\n\")\n",
    "update_rules = text[1]\n",
    "update_rules = update_rules.split(\"\\n\")[:-1]"
   ]
  },
  {
   "cell_type": "markdown",
   "metadata": {},
   "source": [
    "## Part 1"
   ]
  },
  {
   "cell_type": "code",
   "execution_count": null,
   "metadata": {},
   "outputs": [
    {
     "name": "stdout",
     "output_type": "stream",
     "text": [
      "6951\n"
     ]
    }
   ],
   "source": [
    "total = 0\n",
    "\n",
    "for update in update_rules:\n",
    "    line = [int(x) for x in update.split(',')]\n",
    "    positions = {page: idx for idx, page in enumerate(line)}\n",
    "    \n",
    "    valid = True\n",
    "    for rule in ordering_rules:\n",
    "        before, after = map(int, rule.split('|'))\n",
    "        #print(rule)\n",
    "        if before in positions and after in positions:\n",
    "            if positions[before] > positions[after]:\n",
    "                valid = False\n",
    "                break\n",
    "    if valid:\n",
    "        middle_idx = len(line) // 2\n",
    "        total += line[middle_idx]\n",
    "\n",
    "    #print(pages)\n",
    "    #print(positions)\n",
    "\n",
    "\n",
    "print(total)"
   ]
  },
  {
   "cell_type": "markdown",
   "metadata": {},
   "source": [
    "## Part2"
   ]
  },
  {
   "cell_type": "code",
   "execution_count": 5,
   "metadata": {},
   "outputs": [
    {
     "name": "stdout",
     "output_type": "stream",
     "text": [
      "4121\n"
     ]
    }
   ],
   "source": [
    "dependencies = {}\n",
    "afterwards = {}\n",
    "\n",
    "for rule in ordering_rules:\n",
    "    before, after = map(int, rule.split('|'))\n",
    "    if after not in dependencies:dependencies[after] = set()\n",
    "    if before not in afterwards: afterwards[before] = set()\n",
    "    \n",
    "    dependencies[after].add(before)\n",
    "    afterwards[before].add(after)\n",
    "\n",
    "total = 0\n",
    "\n",
    "\n",
    "for update in update_rules:\n",
    "    line = [int(x) for x in update.split(',')]\n",
    "    positions = {page: idx for idx, page in enumerate(line)}\n",
    "    \n",
    "    valid = True\n",
    "    for num in line:\n",
    "        if num in dependencies:\n",
    "            for dependency in dependencies[num]:\n",
    "                if dependency in positions and positions[dependency] > positions[num]:\n",
    "                    valid = False\n",
    "                    break\n",
    "        if not valid:\n",
    "            break\n",
    "    \n",
    "    if not valid:\n",
    "        ordered_line = []\n",
    "        remaining = line.copy()\n",
    "        \n",
    "        while remaining:\n",
    "            for num in remaining:\n",
    "                can_add = True\n",
    "                for rule in ordering_rules:\n",
    "                    before, after = map(int, rule.split('|'))\n",
    "                    if after == num and before in remaining:\n",
    "                        can_add = False\n",
    "                        break\n",
    "                if can_add:\n",
    "                    ordered_line.append(num)\n",
    "                    remaining.remove(num)\n",
    "                    break\n",
    "        \n",
    "        middle_idx = len(ordered_line) // 2\n",
    "        total += ordered_line[middle_idx]\n",
    "\n",
    "print(total)"
   ]
  },
  {
   "cell_type": "code",
   "execution_count": null,
   "metadata": {},
   "outputs": [],
   "source": []
  }
 ],
 "metadata": {
  "kernelspec": {
   "display_name": "Python 3",
   "language": "python",
   "name": "python3"
  },
  "language_info": {
   "codemirror_mode": {
    "name": "ipython",
    "version": 3
   },
   "file_extension": ".py",
   "mimetype": "text/x-python",
   "name": "python",
   "nbconvert_exporter": "python",
   "pygments_lexer": "ipython3",
   "version": "3.12.2"
  }
 },
 "nbformat": 4,
 "nbformat_minor": 2
}
